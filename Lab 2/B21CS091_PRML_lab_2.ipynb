{
  "cells": [
    {
      "cell_type": "markdown",
      "source": [
        "Question 1"
      ],
      "metadata": {
        "id": "QkXYEoOYNqLC"
      }
    },
    {
      "cell_type": "code",
      "execution_count": null,
      "metadata": {
        "id": "XZ5Vr1KUQbDg"
      },
      "outputs": [],
      "source": [
        "import pandas as pd\n",
        "import numpy as np\n",
        "from sklearn.model_selection import train_test_split"
      ]
    },
    {
      "cell_type": "code",
      "execution_count": null,
      "metadata": {
        "colab": {
          "base_uri": "https://localhost:8080/"
        },
        "id": "uvxRkU9sRwf-",
        "outputId": "d8685ccd-7127-4ef3-e78b-c68fa2879ca1"
      },
      "outputs": [
        {
          "output_type": "stream",
          "name": "stdout",
          "text": [
            "     X1     X2     X3      X4   X5  X6   X7  X8     Y1\n",
            "0  0.98  514.5  294.0  110.25  7.0   2  0.0   0  15.55\n",
            "1  0.98  514.5  294.0  110.25  7.0   3  0.0   0  15.55\n",
            "2  0.98  514.5  294.0  110.25  7.0   4  0.0   0  15.55\n",
            "3  0.98  514.5  294.0  110.25  7.0   5  0.0   0  15.55\n",
            "4  0.90  563.5  318.5  122.50  7.0   2  0.0   0  20.84\n"
          ]
        }
      ],
      "source": [
        "df = pd.read_csv('/content/dataset.csv')\n",
        "print(df.head())"
      ]
    },
    {
      "cell_type": "code",
      "execution_count": null,
      "metadata": {
        "colab": {
          "base_uri": "https://localhost:8080/"
        },
        "id": "VeDX-onVR8Yt",
        "outputId": "9080f3d5-952b-4d17-b785-fb1f6c39dc96"
      },
      "outputs": [
        {
          "output_type": "stream",
          "name": "stdout",
          "text": [
            "(537, 8) (537,)\n",
            "(76, 8) (76,)\n",
            "(155, 8) (155,)\n"
          ]
        }
      ],
      "source": [
        "# 1(i)\n",
        "X = df.drop(columns = ['Y1'].copy())\n",
        "Y = df['Y1']\n",
        "\n",
        "X_train, X_res, Y_train, Y_res = train_test_split(X, Y, train_size = 0.7)\n",
        "\n",
        "X_val, X_test, Y_val, Y_test = train_test_split(X_res, Y_res, train_size = 0.333)\n",
        "\n",
        "print(X_train.shape, Y_train.shape)\n",
        "print(X_val.shape, Y_val.shape)\n",
        "print(X_test.shape, Y_test.shape)"
      ]
    },
    {
      "cell_type": "code",
      "execution_count": null,
      "metadata": {
        "colab": {
          "base_uri": "https://localhost:8080/"
        },
        "id": "jHQHYUQLUG2T",
        "outputId": "389f97e8-ab85-4ce5-a21c-e458f0778575"
      },
      "outputs": [
        {
          "output_type": "stream",
          "name": "stdout",
          "text": [
            "0.3620592105263157\n"
          ]
        }
      ],
      "source": [
        "# 1(ii)\n",
        "from sklearn.tree import DecisionTreeRegressor\n",
        "from sklearn.metrics import mean_squared_error\n",
        "\n",
        "DTG1 = DecisionTreeRegressor(random_state=1)\n",
        "DTG1.fit(X_train, Y_train)\n",
        "\n",
        "Y_pred = DTG1.predict(X_val)\n",
        "mse1 = mean_squared_error(Y_pred, Y_val)\n",
        "print(mse1)"
      ]
    },
    {
      "cell_type": "code",
      "execution_count": null,
      "metadata": {
        "colab": {
          "base_uri": "https://localhost:8080/"
        },
        "id": "cFXay-1mWabm",
        "outputId": "4ed8d1ef-aeb2-4ab4-9108-84159c5d4063"
      },
      "outputs": [
        {
          "output_type": "stream",
          "name": "stdout",
          "text": [
            "0.2830112724214289\n"
          ]
        }
      ],
      "source": [
        "DTG2 = DecisionTreeRegressor(criterion='squared_error', max_depth = 7, min_samples_split=4)\n",
        "DTG2.fit(X_train, Y_train)\n",
        "\n",
        "Y_pred2 = DTG2.predict(X_val)\n",
        "mse2 = mean_squared_error(Y_pred2, Y_val)\n",
        "print(mse2)"
      ]
    },
    {
      "cell_type": "code",
      "execution_count": null,
      "metadata": {
        "colab": {
          "base_uri": "https://localhost:8080/"
        },
        "id": "vj748Il6X2_E",
        "outputId": "aa756b28-be66-4e23-d3ab-c1000de2b4da"
      },
      "outputs": [
        {
          "output_type": "stream",
          "name": "stdout",
          "text": [
            "0.38552368421052685\n"
          ]
        }
      ],
      "source": [
        "DTG3 = DecisionTreeRegressor(criterion='absolute_error', min_samples_split = 4, max_depth = 7)\n",
        "DTG3.fit(X_train, Y_train)\n",
        "\n",
        "Y_pred3 = DTG3.predict(X_val)\n",
        "mse3 = mean_squared_error(Y_pred3, Y_val)\n",
        "print(mse3)\n",
        "\n"
      ]
    },
    {
      "cell_type": "code",
      "execution_count": null,
      "metadata": {
        "colab": {
          "base_uri": "https://localhost:8080/"
        },
        "id": "qHe-DFUgeTQo",
        "outputId": "d9afb11f-444f-445c-9c9d-9a1b05830a0a"
      },
      "outputs": [
        {
          "output_type": "stream",
          "name": "stdout",
          "text": [
            "0.30285302353875765\n"
          ]
        }
      ],
      "source": [
        "DTG4 = DecisionTreeRegressor(criterion='squared_error', max_depth = 8, min_samples_split=4)\n",
        "DTG4.fit(X_train, Y_train)\n",
        "\n",
        "Y_pred4 = DTG4.predict(X_val)\n",
        "mse4 = mean_squared_error(Y_pred4, Y_val)\n",
        "print(mse4)\n",
        "\n",
        "#Here DTG2 gives the best result , i.e. when the criterion is 'squared_error', , then we obtain best result and minimum MSE"
      ]
    },
    {
      "cell_type": "code",
      "execution_count": null,
      "metadata": {
        "colab": {
          "base_uri": "https://localhost:8080/",
          "height": 283
        },
        "id": "Uh1EcsdQZsHN",
        "outputId": "c1f701ec-bd8e-4cb0-f6aa-adf94bcc1c8f"
      },
      "outputs": [
        {
          "output_type": "execute_result",
          "data": {
            "text/plain": [
              "[<matplotlib.lines.Line2D at 0x7f63e4d947c0>]"
            ]
          },
          "metadata": {},
          "execution_count": 281
        },
        {
          "output_type": "display_data",
          "data": {
            "text/plain": [
              "<Figure size 432x288 with 1 Axes>"
            ],
            "image/png": "[encoded data removed]"
          },
          "metadata": {
            "needs_background": "light"
          }
        }
      ],
      "source": [
        "import matplotlib.pyplot as plt\n",
        "plt.plot([mse1, mse2, mse3, mse4])\n"
      ]
    },
    {
      "cell_type": "code",
      "execution_count": null,
      "metadata": {
        "colab": {
          "base_uri": "https://localhost:8080/"
        },
        "id": "L0OoV9AmF3eM",
        "outputId": "70f68227-4eb9-40bb-8e2d-10e742bdc4b2"
      },
      "outputs": [
        {
          "output_type": "stream",
          "name": "stdout",
          "text": [
            "0.4579895161290324\n"
          ]
        }
      ],
      "source": [
        "# 1(iii)\n",
        "\n",
        "# Using Hold-out Validation and finding the mse for the test data\n",
        "Y_pred_hold = DTG3.predict(X_test)\n",
        "mse_hold = mean_squared_error(Y_pred_hold, Y_test)\n",
        "print(mse_hold)"
      ]
    },
    {
      "cell_type": "code",
      "execution_count": null,
      "metadata": {
        "id": "BGLMgiJsF3g4"
      },
      "outputs": [],
      "source": [
        "# Using 5-Fold Validation and finding the mse for the test data\n",
        "\n",
        "from sklearn.model_selection import KFold\n",
        "kf1 = KFold(n_splits=5, shuffle = False)\n",
        "kf2 = KFold(n_splits=5, shuffle = True)\n",
        "\n"
      ]
    },
    {
      "cell_type": "code",
      "execution_count": null,
      "metadata": {
        "colab": {
          "base_uri": "https://localhost:8080/"
        },
        "id": "O8ge9TsuF3jK",
        "outputId": "d38a5575-ccd4-4b9e-c26f-d58e30d167ca"
      },
      "outputs": [
        {
          "output_type": "stream",
          "name": "stdout",
          "text": [
            "5-Fold Cross-Validation without Shuffling =  2.93327659578983\n",
            "5-Fold Cross-Validation with Shuffling = 0.3781359653255241\n"
          ]
        }
      ],
      "source": [
        "\n",
        "#without shuffling\n",
        "mse_list_fold1 = []\n",
        "mse_list_fold2 = []\n",
        "\n",
        "for train_index, test_index in kf1.split(X):\n",
        "  X_train_fold = X.iloc[train_index]\n",
        "  X_test_fold = X.iloc[test_index]\n",
        "  Y_train_fold = Y.iloc[train_index]\n",
        "  Y_test_fold = Y.iloc[test_index]\n",
        "\n",
        "  DTG3.fit(X_train_fold, Y_train_fold)\n",
        "  Y_pred_fold = DTG3.predict(X_test_fold)\n",
        "  \n",
        "  mse_list_fold1.append(mean_squared_error(Y_pred_fold, Y_test_fold))\n",
        "\n",
        "average_mse1 = sum(mse_list_fold1)/len(mse_list_fold1)\n",
        "print (\"5-Fold Cross-Validation without Shuffling = \", average_mse1)\n",
        "\n",
        "\n",
        "#with shuffling\n",
        "for train_index, test_index in kf2.split(X):\n",
        "  X_train_fold = X.iloc[train_index]\n",
        "  X_test_fold = X.iloc[test_index]\n",
        "  Y_train_fold = Y.iloc[train_index]\n",
        "  Y_test_fold = Y.iloc[test_index]\n",
        "\n",
        "  DTG3.fit(X_train_fold, Y_train_fold)\n",
        "  Y_pred_fold = DTG3.predict(X_test_fold)\n",
        "  \n",
        "  mse_list_fold2.append(mean_squared_error(Y_pred_fold, Y_test_fold))\n",
        "\n",
        "average_mse2 = sum(mse_list_fold2)/len(mse_list_fold2)\n",
        "print (\"5-Fold Cross-Validation with Shuffling =\", average_mse2)\n"
      ]
    },
    {
      "cell_type": "code",
      "execution_count": null,
      "metadata": {
        "colab": {
          "base_uri": "https://localhost:8080/"
        },
        "id": "g4AiE0_GF3lX",
        "outputId": "71fe4df9-0f29-45ae-e262-598f5b534a10"
      },
      "outputs": [
        {
          "output_type": "stream",
          "name": "stdout",
          "text": [
            "MSE of Repeated KFold Cross Validation =  0.37849752699261535\n"
          ]
        }
      ],
      "source": [
        "#using Repeated 5-fold cross validation\n",
        "\n",
        "mse_rfold = []\n",
        "\n",
        "from sklearn.model_selection import RepeatedKFold\n",
        "\n",
        "rkf = RepeatedKFold(n_repeats = 5, n_splits =5)\n",
        "\n",
        "\n",
        "for train_index, test_index in rkf.split(X):\n",
        "  X_train_fold = X.iloc[train_index]\n",
        "  X_test_fold = X.iloc[test_index]\n",
        "  Y_train_fold = Y.iloc[train_index]\n",
        "  Y_test_fold = Y.iloc[test_index]\n",
        "\n",
        "  DTG3.fit(X_train_fold, Y_train_fold)\n",
        "  Y_pred_fold = DTG3.predict(X_test_fold)\n",
        "  mse_rfold.append(mean_squared_error(Y_pred_fold, Y_test_fold))\n",
        "\n",
        "average_rmse = sum(mse_rfold)/len(mse_rfold)\n",
        "\n",
        "print (\"MSE of Repeated KFold Cross Validation = \", average_rmse)\n",
        "\n",
        "\n",
        "\n",
        "# Amongs all tries Cross-Validations, 5-Fold Cross-Validation with Shuffling worked the best.\n"
      ]
    },
    {
      "cell_type": "code",
      "source": [
        "from sklearn.tree import  plot_tree\n",
        "\n",
        "plot_tree(DTG3)"
      ],
      "metadata": {
        "id": "nT8urC4OSvC1"
      },
      "execution_count": null,
      "outputs": []
    },
    {
      "cell_type": "markdown",
      "source": [
        "Question 2"
      ],
      "metadata": {
        "id": "ctkCRIcuThyM"
      }
    },
    {
      "cell_type": "code",
      "execution_count": null,
      "metadata": {
        "id": "PDK9cighSKst"
      },
      "outputs": [],
      "source": [
        "import pandas as pd\n",
        "import numpy as np\n",
        "from sklearn.model_selection import train_test_split"
      ]
    },
    {
      "cell_type": "code",
      "execution_count": null,
      "metadata": {
        "id": "8oYPB66ZSK45"
      },
      "outputs": [],
      "source": [
        "# 2(i)\n",
        "\n",
        "from sklearn.tree import DecisionTreeRegressor\n",
        "from sklearn.metrics import mean_squared_error\n",
        "\n"
      ]
    },
    {
      "cell_type": "code",
      "execution_count": null,
      "metadata": {
        "colab": {
          "base_uri": "https://localhost:8080/",
          "height": 327
        },
        "id": "tejXgJsmUDX5",
        "outputId": "fd60a11b-c414-4b53-9429-c1fa05c62505"
      },
      "outputs": [
        {
          "output_type": "stream",
          "name": "stdout",
          "text": [
            "Looking in indexes: https://pypi.org/simple, https://us-python.pkg.dev/colab-wheels/public/simple/\n",
            "Requirement already satisfied: scikit-learn in /usr/local/lib/python3.8/dist-packages (1.0.2)\n",
            "Collecting scikit-learn\n",
            "  Downloading scikit_learn-1.2.1-cp38-cp38-manylinux_2_17_x86_64.manylinux2014_x86_64.whl (9.8 MB)\n",
            "\u001b[2K     \u001b[90m━━━━━━━━━━━━━━━━━━━━━━━━━━━━━━━━━━━━━━━━\u001b[0m \u001b[32m9.8/9.8 MB\u001b[0m \u001b[31m50.3 MB/s\u001b[0m eta \u001b[36m0:00:00\u001b[0m\n",
            "\u001b[?25hRequirement already satisfied: numpy>=1.17.3 in /usr/local/lib/python3.8/dist-packages (from scikit-learn) (1.21.6)\n",
            "Requirement already satisfied: threadpoolctl>=2.0.0 in /usr/local/lib/python3.8/dist-packages (from scikit-learn) (3.1.0)\n",
            "Requirement already satisfied: joblib>=1.1.1 in /usr/local/lib/python3.8/dist-packages (from scikit-learn) (1.2.0)\n",
            "Requirement already satisfied: scipy>=1.3.2 in /usr/local/lib/python3.8/dist-packages (from scikit-learn) (1.7.3)\n",
            "Installing collected packages: scikit-learn\n",
            "Successfully installed scikit-learn-1.2.1\n"
          ]
        },
        {
          "output_type": "display_data",
          "data": {
            "application/vnd.colab-display-data+json": {
              "pip_warning": {
                "packages": [
                  "sklearn"
                ]
              }
            }
          },
          "metadata": {}
        }
      ],
      "source": [
        "! pip install -U scikit-learn --user \n"
      ]
    },
    {
      "cell_type": "code",
      "execution_count": null,
      "metadata": {
        "id": "zh2Pd5AkUDaT",
        "colab": {
          "base_uri": "https://localhost:8080/"
        },
        "outputId": "42373710-12eb-4643-d277-74a9281f9d30"
      },
      "outputs": [
        {
          "output_type": "stream",
          "name": "stdout",
          "text": [
            "(150, 2)\n",
            "(150,)\n"
          ]
        }
      ],
      "source": [
        "from itertools import product\n",
        "\n",
        "import matplotlib.pyplot as plt\n",
        "\n",
        "from sklearn import datasets\n",
        "from sklearn.tree import DecisionTreeClassifier\n",
        "from sklearn.inspection import DecisionBoundaryDisplay\n",
        "from sklearn.model_selection import train_test_split as tts\n",
        "\n",
        "# Loading some example data\n",
        "iris = datasets.load_iris()\n",
        "X = iris.data[:, 2:4]         #taking petal-length and petal-width\n",
        "Y = iris.target\n",
        "\n",
        "print(X.shape)\n",
        "print(Y.shape)\n",
        "\n"
      ]
    },
    {
      "cell_type": "code",
      "execution_count": null,
      "metadata": {
        "colab": {
          "base_uri": "https://localhost:8080/",
          "height": 287
        },
        "id": "QysHOqOWUDc2",
        "outputId": "7313db21-f37f-4f2c-dd39-5a0f5c211cb5"
      },
      "outputs": [
        {
          "output_type": "execute_result",
          "data": {
            "text/plain": [
              "<matplotlib.collections.PathCollection at 0x7f8bdef094f0>"
            ]
          },
          "metadata": {},
          "execution_count": 10
        },
        {
          "output_type": "display_data",
          "data": {
            "text/plain": [
              "<Figure size 432x288 with 1 Axes>"
            ],
            "image/png": "[encoded data removed]"
          },
          "metadata": {
            "needs_background": "light"
          }
        }
      ],
      "source": [
        "DTG = DecisionTreeClassifier(max_depth = 2)\n",
        "X_train, X_test, Y_train, Y_test = tts(X, Y, train_size = 0.8)\n",
        "\n",
        "DTG.fit(X_train, Y_train)\n",
        "\n",
        "DecisionBoundaryDisplay.from_estimator(DTG, X_train, alpha = 0.5, response_method=\"predict\")\n",
        "plt.scatter(X_train[:, 0], X_train[:, 1], c=Y_train, s=25, edgecolor=\"k\")\n",
        "\n"
      ]
    },
    {
      "cell_type": "code",
      "execution_count": null,
      "metadata": {
        "colab": {
          "base_uri": "https://localhost:8080/",
          "height": 287
        },
        "id": "voKEbfOlUDfV",
        "outputId": "e96a320d-ea7e-4110-db88-662aa0b3f765"
      },
      "outputs": [
        {
          "output_type": "execute_result",
          "data": {
            "text/plain": [
              "<matplotlib.collections.PathCollection at 0x7f8bdeef1e80>"
            ]
          },
          "metadata": {},
          "execution_count": 12
        },
        {
          "output_type": "display_data",
          "data": {
            "text/plain": [
              "<Figure size 432x288 with 1 Axes>"
            ],
            "image/png": "[encoded data removed]"
          },
          "metadata": {
            "needs_background": "light"
          }
        }
      ],
      "source": [
        "# 2(ii)\n",
        "\n",
        "\n",
        "data_temp = np.column_stack((X, Y))\n",
        "\n",
        "\n",
        "\n",
        "data_temp_del = np.delete(data_temp,  np.where((data_temp[:, 0] == 4.8) & (data_temp[:, 1] == 1.8))[0], axis = 0)\n",
        "\n",
        "\n",
        "\n",
        "X_new = data_temp_del[:, 0:2]\n",
        "Y_new = data_temp_del[:, 2]\n",
        "\n",
        "\n",
        "\n",
        "X_train_new, X_test_new, Y_train_new, Y_test_new = tts(X_new, Y_new, train_size = 0.8)\n",
        "DTG2 = DecisionTreeClassifier(max_depth = 2)\n",
        "DTG2.fit(X_train_new, Y_train_new)\n",
        "\n",
        "\n",
        "DecisionBoundaryDisplay.from_estimator(DTG2, X_train_new, alpha = 0.5, response_method=\"predict\")\n",
        "plt.scatter(X_train_new[:, 0], X_train_new[:, 1], c=Y_train_new, s=25, edgecolor=\"k\")\n",
        "\n",
        "\n",
        "\n",
        "\n",
        "\n",
        "\n"
      ]
    },
    {
      "cell_type": "code",
      "execution_count": null,
      "metadata": {
        "colab": {
          "base_uri": "https://localhost:8080/",
          "height": 287
        },
        "id": "nJtr3MTZUDht",
        "outputId": "ad361a7a-983b-4884-b48f-c4a560d1f8b1"
      },
      "outputs": [
        {
          "data": {
            "text/plain": [
              "<matplotlib.collections.PathCollection at 0x7f3bf6d8d370>"
            ]
          },
          "execution_count": 6,
          "metadata": {},
          "output_type": "execute_result"
        },
        {
          "data": {
            "image/png": "[encoded data removed]",
            "text/plain": [
              "<Figure size 432x288 with 1 Axes>"
            ]
          },
          "metadata": {},
          "output_type": "display_data"
        }
      ],
      "source": [
        "#  2(iii)\n",
        "DTG3 = DecisionTreeClassifier(max_depth = None)\n",
        "DTG3.fit(X_train_new, Y_train_new)\n",
        "\n",
        "DecisionBoundaryDisplay.from_estimator(DTG3, X_train_new, alpha = 0.5, response_method=\"predict\")\n",
        "plt.scatter(X_train_new[:, 0], X_train_new[:, 1], c=Y_train_new, s=25, edgecolor=\"k\")\n"
      ]
    },
    {
      "cell_type": "code",
      "execution_count": null,
      "metadata": {
        "colab": {
          "base_uri": "https://localhost:8080/"
        },
        "id": "wfldPf6ZUDkZ",
        "outputId": "600f8456-4c83-44bf-b88e-01c1de749b22"
      },
      "outputs": [
        {
          "output_type": "stream",
          "name": "stdout",
          "text": [
            "(200, 2)\n",
            "(200,)\n"
          ]
        }
      ],
      "source": [
        "import random\n",
        "\n",
        "\n",
        "X1 = [[random.uniform(0, 2.5), random.uniform(0, 5)] for j in range(100)]\n",
        "X2 = [[random.uniform(2.5, 5), random.uniform(0, 5)] for j in range(100)]\n",
        "\n",
        "X = np.concatenate((X1, X2), axis = 0)\n",
        "np.random.shuffle(X)\n",
        "print(X.shape)\n",
        "\n",
        "Y = X[:, 0].copy()\n",
        "Y[Y<2.5] = 0\n",
        "Y[Y>2.5] = 1\n",
        "\n",
        "print(Y.shape)\n"
      ]
    },
    {
      "cell_type": "code",
      "execution_count": null,
      "metadata": {
        "colab": {
          "base_uri": "https://localhost:8080/",
          "height": 283
        },
        "id": "jQuArYpOLZdE",
        "outputId": "ef7bdc34-aaee-4ab4-a024-7ff43947cf23"
      },
      "outputs": [
        {
          "data": {
            "text/plain": [
              "<matplotlib.collections.PathCollection at 0x7f3bf5868dc0>"
            ]
          },
          "execution_count": 88,
          "metadata": {},
          "output_type": "execute_result"
        },
        {
          "data": {
            "image/png": "[encoded data removed]",
            "text/plain": [
              "<Figure size 432x288 with 1 Axes>"
            ]
          },
          "metadata": {},
          "output_type": "display_data"
        }
      ],
      "source": [
        "DTG = DecisionTreeClassifier(max_depth = 2)\n",
        "DTG.fit(X, Y)\n",
        "\n",
        "DecisionBoundaryDisplay.from_estimator(DTG, X, alpha = 0.6, response_method=\"predict\")\n",
        "plt.scatter(X[:, 0], X[:, 1], c=Y, s=25, edgecolor=\"k\")"
      ]
    },
    {
      "cell_type": "code",
      "execution_count": null,
      "metadata": {
        "id": "38kQyEeHR6sa"
      },
      "outputs": [],
      "source": [
        "X_rot1 = np.add(X[:, 0], X[:, 1])/np.sqrt(2)\n",
        "X_rot2 = np.subtract(X[:, 1], X[:, 0])/np.sqrt(2)\n",
        "\n",
        "\n",
        "X_rot1 = X_rot1.reshape(-1, 1)\n",
        "X_rot2 = X_rot2.reshape(-1, 1)\n",
        "\n",
        "X_rot = np.concatenate((X_rot1, X_rot2), axis = 1)\n",
        "\n"
      ]
    },
    {
      "cell_type": "code",
      "execution_count": null,
      "metadata": {
        "colab": {
          "base_uri": "https://localhost:8080/",
          "height": 283
        },
        "id": "ok_LkD6JRsY8",
        "outputId": "daa5deb6-9a4d-405e-ec74-05a2ad44d71c"
      },
      "outputs": [
        {
          "data": {
            "text/plain": [
              "<matplotlib.collections.PathCollection at 0x7f3bf527c700>"
            ]
          },
          "execution_count": 128,
          "metadata": {},
          "output_type": "execute_result"
        },
        {
          "data": {
            "image/png": "[encoded data removed]",
            "text/plain": [
              "<Figure size 432x288 with 1 Axes>"
            ]
          },
          "metadata": {},
          "output_type": "display_data"
        }
      ],
      "source": [
        "DTG_rot = DecisionTreeClassifier(max_depth = 2)\n",
        "DTG_rot.fit(X_rot, Y)\n",
        "\n",
        "DecisionBoundaryDisplay.from_estimator(DTG_rot, X_rot, alpha = 0.6, response_method=\"predict\")\n",
        "plt.scatter(X_rot[:, 0], X_rot[:, 1], c=Y, s=25, edgecolor=\"k\")"
      ]
    },
    {
      "cell_type": "code",
      "execution_count": null,
      "metadata": {
        "id": "bI3Qym0ALZf3"
      },
      "outputs": [],
      "source": []
    },
    {
      "cell_type": "markdown",
      "source": [
        "Regression\n"
      ],
      "metadata": {
        "id": "XWOXOlVoYw75"
      }
    },
    {
      "cell_type": "code",
      "execution_count": 77,
      "metadata": {
        "id": "lbfw-sjELZj-"
      },
      "outputs": [],
      "source": [
        "import pandas as pd\n",
        "import numpy as np"
      ]
    },
    {
      "cell_type": "code",
      "execution_count": 79,
      "metadata": {
        "id": "6rkFKhtSbmdL"
      },
      "outputs": [],
      "source": [
        "data = pd.read_csv('/content/task.csv')\n",
        "X = np.array(data['X'])\n",
        "Y = np.array(data['Y'])"
      ]
    },
    {
      "cell_type": "code",
      "execution_count": null,
      "metadata": {
        "id": "1VdbwtisLZnd"
      },
      "outputs": [],
      "source": []
    },
    {
      "cell_type": "code",
      "execution_count": 80,
      "metadata": {
        "id": "r_6JEhAsbe6_"
      },
      "outputs": [],
      "source": [
        "X = X.reshape(-1, 1)"
      ]
    },
    {
      "cell_type": "code",
      "source": [
        "from matplotlib.pyplot import figure\n",
        "fig, axs = plt.subplots(1, 2)\n",
        "\n",
        "\n",
        "plt.gcf().set_size_inches(10, 5)\n",
        "for i in range(1, 3):\n",
        "    DTR = DecisionTreeRegressor(max_depth = i)\n",
        "    DTR.fit(X, Y)\n",
        "    axs[i-1].scatter(X, DTR.predict(X))\n",
        "    axs[i-1].set_title('Depth {}'.format(i))"
      ],
      "metadata": {
        "id": "LLDY-CPJbotP",
        "outputId": "4b94d3df-735c-4ff3-f8e9-2a2afa3a3c18",
        "colab": {
          "base_uri": "https://localhost:8080/",
          "height": 336
        }
      },
      "execution_count": 98,
      "outputs": [
        {
          "output_type": "display_data",
          "data": {
            "text/plain": [
              "<Figure size 720x360 with 2 Axes>"
            ],
            "image/png": "[encoded data removed]"
          },
          "metadata": {
            "needs_background": "light"
          }
        }
      ]
    },
    {
      "cell_type": "code",
      "source": [
        "from matplotlib.pyplot import figure\n",
        "fig, axs = plt.subplots(1, 3)\n",
        "\n",
        "\n",
        "plt.gcf().set_size_inches(15, 5)\n",
        "for i in range(1, 4):\n",
        "    DTR = DecisionTreeRegressor(max_depth = i)\n",
        "    DTR.fit(X, Y)\n",
        "    axs[i-1].scatter(X, DTR.predict(X))\n",
        "    axs[i-1].set_title('Depth {}'.format(i))\n"
      ],
      "metadata": {
        "id": "DdA_7yJPbovl",
        "outputId": "a162ed83-a7a1-450f-c540-464bc5b86015",
        "colab": {
          "base_uri": "https://localhost:8080/",
          "height": 336
        }
      },
      "execution_count": 101,
      "outputs": [
        {
          "output_type": "display_data",
          "data": {
            "text/plain": [
              "<Figure size 1080x360 with 3 Axes>"
            ],
            "image/png": "[encoded data removed]"
          },
          "metadata": {
            "needs_background": "light"
          }
        }
      ]
    },
    {
      "cell_type": "code",
      "source": [
        "DTG1 = DecisionTreeRegressor(min_samples_leaf=1)\n",
        "DTG1.fit(X, Y)\n",
        "\n",
        "plt.scatter(X,DTG1.predict(X))\n"
      ],
      "metadata": {
        "id": "2wBlrt_kboxT",
        "outputId": "066aeaa6-1657-45b7-e431-f12635971779",
        "colab": {
          "base_uri": "https://localhost:8080/",
          "height": 286
        }
      },
      "execution_count": 113,
      "outputs": [
        {
          "output_type": "execute_result",
          "data": {
            "text/plain": [
              "<matplotlib.collections.PathCollection at 0x7f634a622040>"
            ]
          },
          "metadata": {},
          "execution_count": 113
        },
        {
          "output_type": "display_data",
          "data": {
            "text/plain": [
              "<Figure size 432x288 with 1 Axes>"
            ],
            "image/png": "[encoded data removed]"
          },
          "metadata": {
            "needs_background": "light"
          }
        }
      ]
    },
    {
      "cell_type": "code",
      "source": [
        "DTG2 = DecisionTreeRegressor(min_samples_leaf=10)\n",
        "DTG2.fit(X, Y)\n",
        "\n",
        "plt.scatter(X,DTG2.predict(X))\n"
      ],
      "metadata": {
        "id": "2MISTLcWeFLN",
        "outputId": "c6db61e1-5645-456b-eab7-721dbf1853d1",
        "colab": {
          "base_uri": "https://localhost:8080/",
          "height": 283
        }
      },
      "execution_count": 114,
      "outputs": [
        {
          "output_type": "execute_result",
          "data": {
            "text/plain": [
              "<matplotlib.collections.PathCollection at 0x7f634a114b20>"
            ]
          },
          "metadata": {},
          "execution_count": 114
        },
        {
          "output_type": "display_data",
          "data": {
            "text/plain": [
              "<Figure size 432x288 with 1 Axes>"
            ],
            "image/png": "[encoded data removed]"
          },
          "metadata": {
            "needs_background": "light"
          }
        }
      ]
    },
    {
      "cell_type": "code",
      "source": [],
      "metadata": {
        "id": "iGj4U-E2bo0A"
      },
      "execution_count": null,
      "outputs": []
    },
    {
      "cell_type": "markdown",
      "metadata": {
        "id": "9o-XLI79Jre6"
      },
      "source": [
        "Question 3"
      ]
    },
    {
      "cell_type": "code",
      "execution_count": 60,
      "metadata": {
        "id": "nJxpIJedF5XR"
      },
      "outputs": [],
      "source": [
        "import pandas as pd\n",
        "import matplotlib.pyplot as plt\n",
        "import numpy as np"
      ]
    },
    {
      "cell_type": "code",
      "execution_count": 61,
      "metadata": {
        "colab": {
          "base_uri": "https://localhost:8080/"
        },
        "id": "8FLxgGjkF5Zz",
        "outputId": "d1e3ed44-a7e1-43ee-b3c8-617cca2f353f"
      },
      "outputs": [
        {
          "output_type": "stream",
          "name": "stdout",
          "text": [
            "<class 'pandas.core.frame.DataFrame'>\n",
            "RangeIndex: 344 entries, 0 to 343\n",
            "Data columns (total 8 columns):\n",
            " #   Column             Non-Null Count  Dtype  \n",
            "---  ------             --------------  -----  \n",
            " 0   species            344 non-null    object \n",
            " 1   island             344 non-null    object \n",
            " 2   bill_length_mm     342 non-null    float64\n",
            " 3   bill_depth_mm      342 non-null    float64\n",
            " 4   flipper_length_mm  342 non-null    float64\n",
            " 5   body_mass_g        342 non-null    float64\n",
            " 6   sex                333 non-null    object \n",
            " 7   year               344 non-null    int64  \n",
            "dtypes: float64(4), int64(1), object(3)\n",
            "memory usage: 21.6+ KB\n"
          ]
        }
      ],
      "source": [
        "data = pd.read_csv('https://raw.githubusercontent.com/mcnakhaee/palmerpenguins/master/palmerpenguins/data/penguins.csv')\n",
        "\n",
        "data.info()"
      ]
    },
    {
      "cell_type": "code",
      "execution_count": 62,
      "metadata": {
        "colab": {
          "base_uri": "https://localhost:8080/"
        },
        "id": "RRUpctPpeUK_",
        "outputId": "5a03565b-b722-49ed-f259-f9cd7499577c"
      },
      "outputs": [
        {
          "output_type": "stream",
          "name": "stdout",
          "text": [
            "species               0\n",
            "island                0\n",
            "bill_length_mm        2\n",
            "bill_depth_mm         2\n",
            "flipper_length_mm     2\n",
            "body_mass_g           2\n",
            "sex                  11\n",
            "year                  0\n",
            "dtype: int64\n"
          ]
        }
      ],
      "source": [
        "print(data.isna().sum())\n",
        "data = data.dropna()\n",
        "\n"
      ]
    },
    {
      "cell_type": "code",
      "execution_count": 63,
      "metadata": {
        "colab": {
          "base_uri": "https://localhost:8080/"
        },
        "id": "hHXhInWjF5gn",
        "outputId": "5dbd22da-0eb9-4d21-cf3c-d7868c1608b9"
      },
      "outputs": [
        {
          "output_type": "stream",
          "name": "stdout",
          "text": [
            "     species  island  bill_length_mm  bill_depth_mm  flipper_length_mm  \\\n",
            "0          0       2            39.1           18.7              181.0   \n",
            "1          0       2            39.5           17.4              186.0   \n",
            "2          0       2            40.3           18.0              195.0   \n",
            "4          0       2            36.7           19.3              193.0   \n",
            "5          0       2            39.3           20.6              190.0   \n",
            "..       ...     ...             ...            ...                ...   \n",
            "339        1       1            55.8           19.8              207.0   \n",
            "340        1       1            43.5           18.1              202.0   \n",
            "341        1       1            49.6           18.2              193.0   \n",
            "342        1       1            50.8           19.0              210.0   \n",
            "343        1       1            50.2           18.7              198.0   \n",
            "\n",
            "     body_mass_g  sex  year  \n",
            "0         3750.0    1     0  \n",
            "1         3800.0    0     0  \n",
            "2         3250.0    0     0  \n",
            "4         3450.0    0     0  \n",
            "5         3650.0    1     0  \n",
            "..           ...  ...   ...  \n",
            "339       4000.0    1     2  \n",
            "340       3400.0    0     2  \n",
            "341       3775.0    1     2  \n",
            "342       4100.0    1     2  \n",
            "343       3775.0    0     2  \n",
            "\n",
            "[333 rows x 8 columns]\n"
          ]
        }
      ],
      "source": [
        "from sklearn.preprocessing import LabelEncoder\n",
        "\n",
        "categorical_columns = ['species', 'island', 'sex', 'year']\n",
        "\n",
        "lab_encoder = LabelEncoder()\n",
        "data_encode = data.copy()\n",
        "\n",
        "for i in categorical_columns:\n",
        "  data_encode[i]= lab_encoder.fit_transform(data[i])\n",
        "\n",
        "\n",
        "print(data_encode)\n",
        "\n"
      ]
    },
    {
      "cell_type": "code",
      "execution_count": 64,
      "metadata": {
        "colab": {
          "base_uri": "https://localhost:8080/"
        },
        "id": "YsdCNyYwe75O",
        "outputId": "9577d7d3-008a-438f-91e2-aef8f12f1075"
      },
      "outputs": [
        {
          "output_type": "stream",
          "name": "stdout",
          "text": [
            "(333, 7)\n",
            "(333,)\n"
          ]
        }
      ],
      "source": [
        "X = np.array(data_encode.drop(['species'], axis = 1).copy())\n",
        "Y = data_encode['species']\n",
        "print(X.shape)\n",
        "print(Y.shape)"
      ]
    },
    {
      "cell_type": "markdown",
      "metadata": {
        "id": "Zse40j0iiFVg"
      },
      "source": [
        "Question 3.2"
      ]
    },
    {
      "cell_type": "code",
      "execution_count": 65,
      "metadata": {
        "id": "MK_m6-f6iwx5"
      },
      "outputs": [],
      "source": [
        "def gini_index(X, Y):\n",
        "  \n",
        "    data_temp = np.c_[X, Y]\n",
        "    X_val = np.unique(X)\n",
        "    Y_val = np.unique(Y)    \n",
        "    ginies = []\n",
        "    prior = []\n",
        "    total_rows = X.shape[0] \n",
        "    for i in X_val: \n",
        "        temp = data_temp[data_temp[:, 0] == i]\n",
        "\n",
        "        rows = temp.shape[0]  \n",
        "        prior.append(rows/total_rows)\n",
        "        probs = []    \n",
        "        for j in Y_val:\n",
        "          probs.append(temp[temp[:, 1] == j].shape[0]/rows)   \n",
        "        gini = 0\n",
        "        for k in probs:\n",
        "          gini += k*k \n",
        "        ginies.append(1-gini)\n",
        "\n",
        "    ans = 0\n",
        "    for i in range(len(ginies)):\n",
        "        ans += prior[i]*ginies[i]\n",
        "    return ans"
      ]
    },
    {
      "cell_type": "code",
      "execution_count": 66,
      "metadata": {
        "colab": {
          "base_uri": "https://localhost:8080/"
        },
        "id": "8jHdd_iyiw1w",
        "outputId": "2657de3d-f6d0-438e-a5fa-a5eeb9f3bbf5"
      },
      "outputs": [
        {
          "output_type": "execute_result",
          "data": {
            "text/plain": [
              "0.1727727727727727"
            ]
          },
          "metadata": {},
          "execution_count": 66
        }
      ],
      "source": [
        "gini_index(X[:, 1], Y)"
      ]
    },
    {
      "cell_type": "code",
      "execution_count": 67,
      "metadata": {
        "id": "n4TW9Oj8eprE"
      },
      "outputs": [],
      "source": [
        "def count_to_cat(X, Y):\n",
        "\n",
        "  X_new = Y.copy()\n",
        "  Y_counts = Y.value_counts()\n",
        "  Y_unique = np.unique(Y)\n",
        "  min1 = Y_counts.min()\n",
        "  \n",
        "  k = np.random.randint(2)\n",
        "  for i in Y_unique:\n",
        "    X_new[X_new == i] = k\n",
        "    if k == 0:\n",
        "      k = 1\n",
        "    else:\n",
        "      k = 0\n",
        "  return X_new"
      ]
    },
    {
      "cell_type": "code",
      "source": [
        "for i in [1, 2, 3, 4]:\n",
        "  X[:, i] = count_to_cat(X[:, i], Y)\n",
        "\n"
      ],
      "metadata": {
        "id": "b6AjW9YdBpX8"
      },
      "execution_count": 68,
      "outputs": []
    },
    {
      "cell_type": "code",
      "source": [
        "def best_split(X, Y):\n",
        "    min_gini = 2\n",
        "    index = None\n",
        "    ginies = []\n",
        "    for i in range(X.shape[1]):\n",
        "        temp = gini_index(X[:, i], Y)\n",
        "        ginies.append(temp)\n",
        "        # print(temp)\n",
        "\n",
        "        if temp < min_gini:\n",
        "            min_gini = temp\n",
        "            index  = i\n",
        "\n",
        "    return index, ginies\n",
        "\n"
      ],
      "metadata": {
        "id": "Fs6OBX_DlQBL"
      },
      "execution_count": 69,
      "outputs": []
    },
    {
      "cell_type": "code",
      "source": [
        "class TreeNode:\n",
        "  def __init__(self, index = None, children = None, value = None):\n",
        "    self.value = value\n",
        "    self.children = children\n",
        "    self.index = index\n",
        "  \n",
        "  def addchild(self, x):\n",
        "    self.children.append(x)\n",
        "\n",
        "\n",
        "class DecisionTree:\n",
        "\n",
        "    def __init__(self, depth):\n",
        "        self.max_depth = depth\n",
        "        self.tree = None\n",
        "  \n",
        "    def train(self, X, Y):\n",
        "        self.n_classes_ = len(np.unique(Y))\n",
        "        self.tree = self.fit(X, Y, 0, np.array(range(X.shape[1])))\n",
        "\n",
        "\n",
        "    def fit(self, X, Y, depth, features):\n",
        "\n",
        "        n_labels = len(np.unique(Y))\n",
        "\n",
        "        if depth == self.max_depth or n_labels == 1:\n",
        "            vals, counts = np.unique(Y, return_counts=True)\n",
        "            mode_value = np.argwhere(counts == np.max(counts))\n",
        "\n",
        "            leaf = vals[mode_value].flatten().tolist()[0]\n",
        "            # print(leaf, \"alloted\")\n",
        "            return TreeNode(value=leaf)\n",
        "\n",
        "        ind, ginies = best_split(X, Y)\n",
        "\n",
        "        best_feature = None\n",
        "        min_gini = 2\n",
        "        for i in features:\n",
        "            if min_gini > ginies[i] and ginies[i] != 0:\n",
        "                min_gini = ginies[i]\n",
        "                best_feature = i\n",
        "        \n",
        "        # print(best_feature)\n",
        "\n",
        "\n",
        "        features = np.delete(features, np.where(features == best_feature))\n",
        "\n",
        "        X_val = np.unique(X[:, best_feature])\n",
        "\n",
        "        child = []\n",
        "\n",
        "        for i in X_val:\n",
        "            X1 = X[X[:, best_feature] == i]\n",
        "            Y1 = Y[X[:, best_feature] == i]\n",
        "\n",
        "            child.append(self.fit(X1, Y1, depth+1, features))\n",
        "        \n",
        "        return TreeNode(best_feature, child, None)\n",
        "\n",
        "    def predict(self, X):\n",
        "        temp_node = self.tree\n",
        "\n",
        "        while temp_node.value is None:\n",
        "            ind = temp_node.index\n",
        "            temp_node = temp_node.children[int(X[ind])]\n",
        "        return temp_node.value\n",
        "\n",
        "\n"
      ],
      "metadata": {
        "id": "QQfQslHURkbN"
      },
      "execution_count": 70,
      "outputs": []
    },
    {
      "cell_type": "code",
      "source": [
        "from sklearn.model_selection import train_test_split as tts\n",
        "\n",
        "X_train, X_test, Y_train, Y_test = tts(X, Y, train_size = 0.8)\n",
        "\n",
        "X_test = np.array(X_test)\n",
        "Y_test = np.array(Y_test)\n",
        "X_train = np.array(X_train)\n",
        "Y_train = np.array(Y_train)\n",
        "\n",
        "\n",
        "print(X_train.shape)\n",
        "print(Y_train.shape)\n",
        "print(X_test.shape)\n",
        "print(Y_test.shape)"
      ],
      "metadata": {
        "colab": {
          "base_uri": "https://localhost:8080/"
        },
        "id": "II0zaZ3V3ZAg",
        "outputId": "0e028cb6-b76b-4a3c-cebd-53dcd01b0571"
      },
      "execution_count": 71,
      "outputs": [
        {
          "output_type": "stream",
          "name": "stdout",
          "text": [
            "(266, 7)\n",
            "(266,)\n",
            "(67, 7)\n",
            "(67,)\n"
          ]
        }
      ]
    },
    {
      "cell_type": "code",
      "source": [
        "DTG = DecisionTree(5)\n",
        "DTG.train(X_train, Y_train)\n",
        "\n",
        "correct = 0\n",
        "# print(X_test[5, :])\n",
        "# print(Y_test[0])\n",
        "y_pred = []\n",
        "y_pred_class = np.zeros(len(np.unique(Y_test)))\n",
        "total_class = np.zeros(len(np.unique(Y_test)))\n",
        "for i in range(X_test.shape[0]):\n",
        "\n",
        "    total_class[Y_test[i]] += 1\n",
        "    y_pred = DTG.predict(X_test[i, :])\n",
        "\n",
        "    if y_pred == Y_test[i]:\n",
        "        y_pred_class[y_pred] += 1\n",
        "        correct += 1\n",
        "\n",
        "print(\"Correctly predicted elements \", y_pred_class)\n",
        "print(\"Original number of elements \", total_class)\n",
        "print()\n",
        "print(\"Overall Accuracy of the Model is {}:\".format(correct/X_test.shape[0]))\n",
        "\n",
        "accuracy = 0\n",
        "\n",
        "for i in range(len(total_class)):\n",
        "    accuracy += y_pred_class[i]/total_class[i]\n",
        "accuracy /= 3\n",
        "\n",
        "print(\"Classwise Accuracy of the Model is {}:\".format(accuracy))\n"
      ],
      "metadata": {
        "colab": {
          "base_uri": "https://localhost:8080/"
        },
        "id": "EDMjmy96RkeC",
        "outputId": "6891ca47-a4a7-4027-c411-1eb8c89ca64a"
      },
      "execution_count": 75,
      "outputs": [
        {
          "output_type": "stream",
          "name": "stdout",
          "text": [
            "Correctly predicted elements  [20. 11. 22.]\n",
            "Original number of elements  [32. 13. 22.]\n",
            "\n",
            "Overall Accuracy of the Model is 0.7910447761194029:\n",
            "Classwise Accuracy of the Model is 0.8237179487179488:\n"
          ]
        }
      ]
    }
  ],
  "metadata": {
    "colab": {
      "provenance": []
    },
    "kernelspec": {
      "display_name": "Python 3",
      "name": "python3"
    },
    "language_info": {
      "name": "python"
    }
  },
  "nbformat": 4,
  "nbformat_minor": 0
}