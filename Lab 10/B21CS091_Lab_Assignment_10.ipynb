{
  "nbformat": 4,
  "nbformat_minor": 0,
  "metadata": {
    "colab": {
      "provenance": []
    },
    "kernelspec": {
      "name": "python3",
      "display_name": "Python 3"
    },
    "language_info": {
      "name": "python"
    }
  },
  "cells": [
    {
      "cell_type": "code",
      "source": [
        "import os\n",
        "import torch\n",
        "from torch import nn\n",
        "from torch.utils.data import DataLoader\n",
        "from torchvision import datasets, transforms\n",
        "import tensorflow as tf\n",
        "import numpy as np\n",
        "import pandas as pd"
      ],
      "metadata": {
        "id": "BaycomnT7mRl"
      },
      "execution_count": 1,
      "outputs": []
    },
    {
      "cell_type": "markdown",
      "source": [
        "Importing the Data"
      ],
      "metadata": {
        "id": "MlQkvzldD0-S"
      }
    },
    {
      "cell_type": "code",
      "source": [
        "data= pd.read_csv('/content/abalone.data', names=['Sex', 'Length', 'Diameter', 'Heoght', 'Whole Weight', 'Shuckled Weight', 'Viscera Weight', 'Shell Weight', 'Rings'])\n",
        "print(data.head())"
      ],
      "metadata": {
        "colab": {
          "base_uri": "https://localhost:8080/"
        },
        "id": "6dPdbWNuv5K1",
        "outputId": "2a16edb6-fffa-49ec-919b-5a1f2a7f42b5"
      },
      "execution_count": 2,
      "outputs": [
        {
          "output_type": "stream",
          "name": "stdout",
          "text": [
            "  Sex  Length  Diameter  Heoght  Whole Weight  Shuckled Weight  \\\n",
            "0   M   0.455     0.365   0.095        0.5140           0.2245   \n",
            "1   M   0.350     0.265   0.090        0.2255           0.0995   \n",
            "2   F   0.530     0.420   0.135        0.6770           0.2565   \n",
            "3   M   0.440     0.365   0.125        0.5160           0.2155   \n",
            "4   I   0.330     0.255   0.080        0.2050           0.0895   \n",
            "\n",
            "   Viscera Weight  Shell Weight  Rings  \n",
            "0          0.1010         0.150     15  \n",
            "1          0.0485         0.070      7  \n",
            "2          0.1415         0.210      9  \n",
            "3          0.1140         0.155     10  \n",
            "4          0.0395         0.055      7  \n"
          ]
        }
      ]
    },
    {
      "cell_type": "code",
      "source": [
        "print(data.info())"
      ],
      "metadata": {
        "colab": {
          "base_uri": "https://localhost:8080/"
        },
        "id": "PiskWwz-v5M5",
        "outputId": "2b643bea-c79a-4a90-d7f2-5ac90b25f09b"
      },
      "execution_count": 180,
      "outputs": [
        {
          "output_type": "stream",
          "name": "stdout",
          "text": [
            "<class 'pandas.core.frame.DataFrame'>\n",
            "RangeIndex: 4177 entries, 0 to 4176\n",
            "Data columns (total 9 columns):\n",
            " #   Column           Non-Null Count  Dtype  \n",
            "---  ------           --------------  -----  \n",
            " 0   Sex              4177 non-null   object \n",
            " 1   Length           4177 non-null   float64\n",
            " 2   Diameter         4177 non-null   float64\n",
            " 3   Heoght           4177 non-null   float64\n",
            " 4   Whole Weight     4177 non-null   float64\n",
            " 5   Shuckled Weight  4177 non-null   float64\n",
            " 6   Viscera Weight   4177 non-null   float64\n",
            " 7   Shell Weight     4177 non-null   float64\n",
            " 8   Rings            4177 non-null   int64  \n",
            "dtypes: float64(7), int64(1), object(1)\n",
            "memory usage: 293.8+ KB\n",
            "None\n"
          ]
        }
      ]
    },
    {
      "cell_type": "code",
      "source": [
        "data.describe()"
      ],
      "metadata": {
        "colab": {
          "base_uri": "https://localhost:8080/",
          "height": 300
        },
        "id": "440wvihSv5RQ",
        "outputId": "80f39696-9f14-4b68-ea81-e9156ff53a0b"
      },
      "execution_count": null,
      "outputs": [
        {
          "output_type": "execute_result",
          "data": {
            "text/plain": [
              "            Length     Diameter       Heoght  Whole Weight  Shuckled Weight  \\\n",
              "count  4177.000000  4177.000000  4177.000000   4177.000000      4177.000000   \n",
              "mean      0.523992     0.407881     0.139516      0.828742         0.359367   \n",
              "std       0.120093     0.099240     0.041827      0.490389         0.221963   \n",
              "min       0.075000     0.055000     0.000000      0.002000         0.001000   \n",
              "25%       0.450000     0.350000     0.115000      0.441500         0.186000   \n",
              "50%       0.545000     0.425000     0.140000      0.799500         0.336000   \n",
              "75%       0.615000     0.480000     0.165000      1.153000         0.502000   \n",
              "max       0.815000     0.650000     1.130000      2.825500         1.488000   \n",
              "\n",
              "       Viscera Weight  Shell Weight        Rings  \n",
              "count     4177.000000   4177.000000  4177.000000  \n",
              "mean         0.180594      0.238831     9.933684  \n",
              "std          0.109614      0.139203     3.224169  \n",
              "min          0.000500      0.001500     1.000000  \n",
              "25%          0.093500      0.130000     8.000000  \n",
              "50%          0.171000      0.234000     9.000000  \n",
              "75%          0.253000      0.329000    11.000000  \n",
              "max          0.760000      1.005000    29.000000  "
            ],
            "text/html": [
              "\n",
              "  <div id=\"df-d6ca6969-b540-4df9-881e-642d6704c4c4\">\n",
              "    <div class=\"colab-df-container\">\n",
              "      <div>\n",
              "<style scoped>\n",
              "    .dataframe tbody tr th:only-of-type {\n",
              "        vertical-align: middle;\n",
              "    }\n",
              "\n",
              "    .dataframe tbody tr th {\n",
              "        vertical-align: top;\n",
              "    }\n",
              "\n",
              "    .dataframe thead th {\n",
              "        text-align: right;\n",
              "    }\n",
              "</style>\n",
              "<table border=\"1\" class=\"dataframe\">\n",
              "  <thead>\n",
              "    <tr style=\"text-align: right;\">\n",
              "      <th></th>\n",
              "      <th>Length</th>\n",
              "      <th>Diameter</th>\n",
              "      <th>Heoght</th>\n",
              "      <th>Whole Weight</th>\n",
              "      <th>Shuckled Weight</th>\n",
              "      <th>Viscera Weight</th>\n",
              "      <th>Shell Weight</th>\n",
              "      <th>Rings</th>\n",
              "    </tr>\n",
              "  </thead>\n",
              "  <tbody>\n",
              "    <tr>\n",
              "      <th>count</th>\n",
              "      <td>4177.000000</td>\n",
              "      <td>4177.000000</td>\n",
              "      <td>4177.000000</td>\n",
              "      <td>4177.000000</td>\n",
              "      <td>4177.000000</td>\n",
              "      <td>4177.000000</td>\n",
              "      <td>4177.000000</td>\n",
              "      <td>4177.000000</td>\n",
              "    </tr>\n",
              "    <tr>\n",
              "      <th>mean</th>\n",
              "      <td>0.523992</td>\n",
              "      <td>0.407881</td>\n",
              "      <td>0.139516</td>\n",
              "      <td>0.828742</td>\n",
              "      <td>0.359367</td>\n",
              "      <td>0.180594</td>\n",
              "      <td>0.238831</td>\n",
              "      <td>9.933684</td>\n",
              "    </tr>\n",
              "    <tr>\n",
              "      <th>std</th>\n",
              "      <td>0.120093</td>\n",
              "      <td>0.099240</td>\n",
              "      <td>0.041827</td>\n",
              "      <td>0.490389</td>\n",
              "      <td>0.221963</td>\n",
              "      <td>0.109614</td>\n",
              "      <td>0.139203</td>\n",
              "      <td>3.224169</td>\n",
              "    </tr>\n",
              "    <tr>\n",
              "      <th>min</th>\n",
              "      <td>0.075000</td>\n",
              "      <td>0.055000</td>\n",
              "      <td>0.000000</td>\n",
              "      <td>0.002000</td>\n",
              "      <td>0.001000</td>\n",
              "      <td>0.000500</td>\n",
              "      <td>0.001500</td>\n",
              "      <td>1.000000</td>\n",
              "    </tr>\n",
              "    <tr>\n",
              "      <th>25%</th>\n",
              "      <td>0.450000</td>\n",
              "      <td>0.350000</td>\n",
              "      <td>0.115000</td>\n",
              "      <td>0.441500</td>\n",
              "      <td>0.186000</td>\n",
              "      <td>0.093500</td>\n",
              "      <td>0.130000</td>\n",
              "      <td>8.000000</td>\n",
              "    </tr>\n",
              "    <tr>\n",
              "      <th>50%</th>\n",
              "      <td>0.545000</td>\n",
              "      <td>0.425000</td>\n",
              "      <td>0.140000</td>\n",
              "      <td>0.799500</td>\n",
              "      <td>0.336000</td>\n",
              "      <td>0.171000</td>\n",
              "      <td>0.234000</td>\n",
              "      <td>9.000000</td>\n",
              "    </tr>\n",
              "    <tr>\n",
              "      <th>75%</th>\n",
              "      <td>0.615000</td>\n",
              "      <td>0.480000</td>\n",
              "      <td>0.165000</td>\n",
              "      <td>1.153000</td>\n",
              "      <td>0.502000</td>\n",
              "      <td>0.253000</td>\n",
              "      <td>0.329000</td>\n",
              "      <td>11.000000</td>\n",
              "    </tr>\n",
              "    <tr>\n",
              "      <th>max</th>\n",
              "      <td>0.815000</td>\n",
              "      <td>0.650000</td>\n",
              "      <td>1.130000</td>\n",
              "      <td>2.825500</td>\n",
              "      <td>1.488000</td>\n",
              "      <td>0.760000</td>\n",
              "      <td>1.005000</td>\n",
              "      <td>29.000000</td>\n",
              "    </tr>\n",
              "  </tbody>\n",
              "</table>\n",
              "</div>\n",
              "      <button class=\"colab-df-convert\" onclick=\"convertToInteractive('df-d6ca6969-b540-4df9-881e-642d6704c4c4')\"\n",
              "              title=\"Convert this dataframe to an interactive table.\"\n",
              "              style=\"display:none;\">\n",
              "        \n",
              "  <svg xmlns=\"http://www.w3.org/2000/svg\" height=\"24px\"viewBox=\"0 0 24 24\"\n",
              "       width=\"24px\">\n",
              "    <path d=\"M0 0h24v24H0V0z\" fill=\"none\"/>\n",
              "    <path d=\"M18.56 5.44l.94 2.06.94-2.06 2.06-.94-2.06-.94-.94-2.06-.94 2.06-2.06.94zm-11 1L8.5 8.5l.94-2.06 2.06-.94-2.06-.94L8.5 2.5l-.94 2.06-2.06.94zm10 10l.94 2.06.94-2.06 2.06-.94-2.06-.94-.94-2.06-.94 2.06-2.06.94z\"/><path d=\"M17.41 7.96l-1.37-1.37c-.4-.4-.92-.59-1.43-.59-.52 0-1.04.2-1.43.59L10.3 9.45l-7.72 7.72c-.78.78-.78 2.05 0 2.83L4 21.41c.39.39.9.59 1.41.59.51 0 1.02-.2 1.41-.59l7.78-7.78 2.81-2.81c.8-.78.8-2.07 0-2.86zM5.41 20L4 18.59l7.72-7.72 1.47 1.35L5.41 20z\"/>\n",
              "  </svg>\n",
              "      </button>\n",
              "      \n",
              "  <style>\n",
              "    .colab-df-container {\n",
              "      display:flex;\n",
              "      flex-wrap:wrap;\n",
              "      gap: 12px;\n",
              "    }\n",
              "\n",
              "    .colab-df-convert {\n",
              "      background-color: #E8F0FE;\n",
              "      border: none;\n",
              "      border-radius: 50%;\n",
              "      cursor: pointer;\n",
              "      display: none;\n",
              "      fill: #1967D2;\n",
              "      height: 32px;\n",
              "      padding: 0 0 0 0;\n",
              "      width: 32px;\n",
              "    }\n",
              "\n",
              "    .colab-df-convert:hover {\n",
              "      background-color: #E2EBFA;\n",
              "      box-shadow: 0px 1px 2px rgba(60, 64, 67, 0.3), 0px 1px 3px 1px rgba(60, 64, 67, 0.15);\n",
              "      fill: #174EA6;\n",
              "    }\n",
              "\n",
              "    [theme=dark] .colab-df-convert {\n",
              "      background-color: #3B4455;\n",
              "      fill: #D2E3FC;\n",
              "    }\n",
              "\n",
              "    [theme=dark] .colab-df-convert:hover {\n",
              "      background-color: #434B5C;\n",
              "      box-shadow: 0px 1px 3px 1px rgba(0, 0, 0, 0.15);\n",
              "      filter: drop-shadow(0px 1px 2px rgba(0, 0, 0, 0.3));\n",
              "      fill: #FFFFFF;\n",
              "    }\n",
              "  </style>\n",
              "\n",
              "      <script>\n",
              "        const buttonEl =\n",
              "          document.querySelector('#df-d6ca6969-b540-4df9-881e-642d6704c4c4 button.colab-df-convert');\n",
              "        buttonEl.style.display =\n",
              "          google.colab.kernel.accessAllowed ? 'block' : 'none';\n",
              "\n",
              "        async function convertToInteractive(key) {\n",
              "          const element = document.querySelector('#df-d6ca6969-b540-4df9-881e-642d6704c4c4');\n",
              "          const dataTable =\n",
              "            await google.colab.kernel.invokeFunction('convertToInteractive',\n",
              "                                                     [key], {});\n",
              "          if (!dataTable) return;\n",
              "\n",
              "          const docLinkHtml = 'Like what you see? Visit the ' +\n",
              "            '<a target=\"_blank\" href=https://colab.research.google.com/notebooks/data_table.ipynb>data table notebook</a>'\n",
              "            + ' to learn more about interactive tables.';\n",
              "          element.innerHTML = '';\n",
              "          dataTable['output_type'] = 'display_data';\n",
              "          await google.colab.output.renderOutput(dataTable, element);\n",
              "          const docLink = document.createElement('div');\n",
              "          docLink.innerHTML = docLinkHtml;\n",
              "          element.appendChild(docLink);\n",
              "        }\n",
              "      </script>\n",
              "    </div>\n",
              "  </div>\n",
              "  "
            ]
          },
          "metadata": {},
          "execution_count": 13
        }
      ]
    },
    {
      "cell_type": "code",
      "source": [
        "data.hist()"
      ],
      "metadata": {
        "colab": {
          "base_uri": "https://localhost:8080/",
          "height": 598
        },
        "id": "jYgTTTeA4zeG",
        "outputId": "9a482274-4420-42bf-bd4d-5f1e6b7b23b8"
      },
      "execution_count": null,
      "outputs": [
        {
          "output_type": "execute_result",
          "data": {
            "text/plain": [
              "array([[<Axes: title={'center': 'Length'}>,\n",
              "        <Axes: title={'center': 'Diameter'}>,\n",
              "        <Axes: title={'center': 'Heoght'}>],\n",
              "       [<Axes: title={'center': 'Whole Weight'}>,\n",
              "        <Axes: title={'center': 'Shuckled Weight'}>,\n",
              "        <Axes: title={'center': 'Viscera Weight'}>],\n",
              "       [<Axes: title={'center': 'Shell Weight'}>,\n",
              "        <Axes: title={'center': 'Rings'}>, <Axes: >]], dtype=object)"
            ]
          },
          "metadata": {},
          "execution_count": 80
        },
        {
          "output_type": "display_data",
          "data": {
            "text/plain": [
              "<Figure size 640x480 with 9 Axes>"
            ],
            "image/png": "[encoded data removed]"
          },
          "metadata": {}
        }
      ]
    },
    {
      "cell_type": "code",
      "source": [
        "data['Rings'].value_counts()"
      ],
      "metadata": {
        "colab": {
          "base_uri": "https://localhost:8080/"
        },
        "id": "UaDfkOMtv5T7",
        "outputId": "06fdf4b8-3935-4d03-89ed-c9c0f16a9948"
      },
      "execution_count": 181,
      "outputs": [
        {
          "output_type": "execute_result",
          "data": {
            "text/plain": [
              "9     689\n",
              "10    634\n",
              "8     568\n",
              "11    487\n",
              "7     391\n",
              "12    267\n",
              "6     259\n",
              "13    203\n",
              "14    126\n",
              "5     115\n",
              "15    103\n",
              "16     67\n",
              "17     58\n",
              "4      57\n",
              "18     42\n",
              "19     32\n",
              "20     26\n",
              "3      15\n",
              "21     14\n",
              "23      9\n",
              "22      6\n",
              "27      2\n",
              "24      2\n",
              "1       1\n",
              "26      1\n",
              "29      1\n",
              "2       1\n",
              "25      1\n",
              "Name: Rings, dtype: int64"
            ]
          },
          "metadata": {},
          "execution_count": 181
        }
      ]
    },
    {
      "cell_type": "markdown",
      "source": [
        "#Converting the character 'Sex' to numerical values"
      ],
      "metadata": {
        "id": "FKozqaPCD9l3"
      }
    },
    {
      "cell_type": "code",
      "source": [
        "sex_data = np.array(data['Sex'])\n",
        "\n",
        "sex_data[0:5]"
      ],
      "metadata": {
        "colab": {
          "base_uri": "https://localhost:8080/"
        },
        "id": "Ms5pv1kKyTn9",
        "outputId": "3c0ccb33-499f-4c4c-cb39-7eb79a7f692a"
      },
      "execution_count": 3,
      "outputs": [
        {
          "output_type": "execute_result",
          "data": {
            "text/plain": [
              "array(['M', 'M', 'F', 'M', 'I'], dtype=object)"
            ]
          },
          "metadata": {},
          "execution_count": 3
        }
      ]
    },
    {
      "cell_type": "code",
      "source": [
        "sex_data[sex_data == 'M'] = 0\n",
        "sex_data[sex_data == 'F'] = 1\n",
        "sex_data[sex_data == 'I'] = 2\n",
        "\n",
        "sex_data[0:5]"
      ],
      "metadata": {
        "colab": {
          "base_uri": "https://localhost:8080/"
        },
        "id": "M6l2HlIXymSj",
        "outputId": "072f8c93-15cc-46b0-cd90-2b36f644d781"
      },
      "execution_count": 4,
      "outputs": [
        {
          "output_type": "execute_result",
          "data": {
            "text/plain": [
              "array([0, 0, 1, 0, 2], dtype=object)"
            ]
          },
          "metadata": {},
          "execution_count": 4
        }
      ]
    },
    {
      "cell_type": "code",
      "source": [
        "data['Sex'] = sex_data"
      ],
      "metadata": {
        "id": "ws4CHFKwyzog"
      },
      "execution_count": 5,
      "outputs": []
    },
    {
      "cell_type": "code",
      "source": [
        "data.head()"
      ],
      "metadata": {
        "colab": {
          "base_uri": "https://localhost:8080/",
          "height": 206
        },
        "id": "J7Tbvzp9y3XU",
        "outputId": "036cffe2-86f3-4bf2-da9b-67e0f0936988"
      },
      "execution_count": 6,
      "outputs": [
        {
          "output_type": "execute_result",
          "data": {
            "text/plain": [
              "  Sex  Length  Diameter  Heoght  Whole Weight  Shuckled Weight  \\\n",
              "0   0   0.455     0.365   0.095        0.5140           0.2245   \n",
              "1   0   0.350     0.265   0.090        0.2255           0.0995   \n",
              "2   1   0.530     0.420   0.135        0.6770           0.2565   \n",
              "3   0   0.440     0.365   0.125        0.5160           0.2155   \n",
              "4   2   0.330     0.255   0.080        0.2050           0.0895   \n",
              "\n",
              "   Viscera Weight  Shell Weight  Rings  \n",
              "0          0.1010         0.150     15  \n",
              "1          0.0485         0.070      7  \n",
              "2          0.1415         0.210      9  \n",
              "3          0.1140         0.155     10  \n",
              "4          0.0395         0.055      7  "
            ],
            "text/html": [
              "\n",
              "  <div id=\"df-2c0df50b-a3da-44cd-8333-e117d3cffe9d\">\n",
              "    <div class=\"colab-df-container\">\n",
              "      <div>\n",
              "<style scoped>\n",
              "    .dataframe tbody tr th:only-of-type {\n",
              "        vertical-align: middle;\n",
              "    }\n",
              "\n",
              "    .dataframe tbody tr th {\n",
              "        vertical-align: top;\n",
              "    }\n",
              "\n",
              "    .dataframe thead th {\n",
              "        text-align: right;\n",
              "    }\n",
              "</style>\n",
              "<table border=\"1\" class=\"dataframe\">\n",
              "  <thead>\n",
              "    <tr style=\"text-align: right;\">\n",
              "      <th></th>\n",
              "      <th>Sex</th>\n",
              "      <th>Length</th>\n",
              "      <th>Diameter</th>\n",
              "      <th>Heoght</th>\n",
              "      <th>Whole Weight</th>\n",
              "      <th>Shuckled Weight</th>\n",
              "      <th>Viscera Weight</th>\n",
              "      <th>Shell Weight</th>\n",
              "      <th>Rings</th>\n",
              "    </tr>\n",
              "  </thead>\n",
              "  <tbody>\n",
              "    <tr>\n",
              "      <th>0</th>\n",
              "      <td>0</td>\n",
              "      <td>0.455</td>\n",
              "      <td>0.365</td>\n",
              "      <td>0.095</td>\n",
              "      <td>0.5140</td>\n",
              "      <td>0.2245</td>\n",
              "      <td>0.1010</td>\n",
              "      <td>0.150</td>\n",
              "      <td>15</td>\n",
              "    </tr>\n",
              "    <tr>\n",
              "      <th>1</th>\n",
              "      <td>0</td>\n",
              "      <td>0.350</td>\n",
              "      <td>0.265</td>\n",
              "      <td>0.090</td>\n",
              "      <td>0.2255</td>\n",
              "      <td>0.0995</td>\n",
              "      <td>0.0485</td>\n",
              "      <td>0.070</td>\n",
              "      <td>7</td>\n",
              "    </tr>\n",
              "    <tr>\n",
              "      <th>2</th>\n",
              "      <td>1</td>\n",
              "      <td>0.530</td>\n",
              "      <td>0.420</td>\n",
              "      <td>0.135</td>\n",
              "      <td>0.6770</td>\n",
              "      <td>0.2565</td>\n",
              "      <td>0.1415</td>\n",
              "      <td>0.210</td>\n",
              "      <td>9</td>\n",
              "    </tr>\n",
              "    <tr>\n",
              "      <th>3</th>\n",
              "      <td>0</td>\n",
              "      <td>0.440</td>\n",
              "      <td>0.365</td>\n",
              "      <td>0.125</td>\n",
              "      <td>0.5160</td>\n",
              "      <td>0.2155</td>\n",
              "      <td>0.1140</td>\n",
              "      <td>0.155</td>\n",
              "      <td>10</td>\n",
              "    </tr>\n",
              "    <tr>\n",
              "      <th>4</th>\n",
              "      <td>2</td>\n",
              "      <td>0.330</td>\n",
              "      <td>0.255</td>\n",
              "      <td>0.080</td>\n",
              "      <td>0.2050</td>\n",
              "      <td>0.0895</td>\n",
              "      <td>0.0395</td>\n",
              "      <td>0.055</td>\n",
              "      <td>7</td>\n",
              "    </tr>\n",
              "  </tbody>\n",
              "</table>\n",
              "</div>\n",
              "      <button class=\"colab-df-convert\" onclick=\"convertToInteractive('df-2c0df50b-a3da-44cd-8333-e117d3cffe9d')\"\n",
              "              title=\"Convert this dataframe to an interactive table.\"\n",
              "              style=\"display:none;\">\n",
              "        \n",
              "  <svg xmlns=\"http://www.w3.org/2000/svg\" height=\"24px\"viewBox=\"0 0 24 24\"\n",
              "       width=\"24px\">\n",
              "    <path d=\"M0 0h24v24H0V0z\" fill=\"none\"/>\n",
              "    <path d=\"M18.56 5.44l.94 2.06.94-2.06 2.06-.94-2.06-.94-.94-2.06-.94 2.06-2.06.94zm-11 1L8.5 8.5l.94-2.06 2.06-.94-2.06-.94L8.5 2.5l-.94 2.06-2.06.94zm10 10l.94 2.06.94-2.06 2.06-.94-2.06-.94-.94-2.06-.94 2.06-2.06.94z\"/><path d=\"M17.41 7.96l-1.37-1.37c-.4-.4-.92-.59-1.43-.59-.52 0-1.04.2-1.43.59L10.3 9.45l-7.72 7.72c-.78.78-.78 2.05 0 2.83L4 21.41c.39.39.9.59 1.41.59.51 0 1.02-.2 1.41-.59l7.78-7.78 2.81-2.81c.8-.78.8-2.07 0-2.86zM5.41 20L4 18.59l7.72-7.72 1.47 1.35L5.41 20z\"/>\n",
              "  </svg>\n",
              "      </button>\n",
              "      \n",
              "  <style>\n",
              "    .colab-df-container {\n",
              "      display:flex;\n",
              "      flex-wrap:wrap;\n",
              "      gap: 12px;\n",
              "    }\n",
              "\n",
              "    .colab-df-convert {\n",
              "      background-color: #E8F0FE;\n",
              "      border: none;\n",
              "      border-radius: 50%;\n",
              "      cursor: pointer;\n",
              "      display: none;\n",
              "      fill: #1967D2;\n",
              "      height: 32px;\n",
              "      padding: 0 0 0 0;\n",
              "      width: 32px;\n",
              "    }\n",
              "\n",
              "    .colab-df-convert:hover {\n",
              "      background-color: #E2EBFA;\n",
              "      box-shadow: 0px 1px 2px rgba(60, 64, 67, 0.3), 0px 1px 3px 1px rgba(60, 64, 67, 0.15);\n",
              "      fill: #174EA6;\n",
              "    }\n",
              "\n",
              "    [theme=dark] .colab-df-convert {\n",
              "      background-color: #3B4455;\n",
              "      fill: #D2E3FC;\n",
              "    }\n",
              "\n",
              "    [theme=dark] .colab-df-convert:hover {\n",
              "      background-color: #434B5C;\n",
              "      box-shadow: 0px 1px 3px 1px rgba(0, 0, 0, 0.15);\n",
              "      filter: drop-shadow(0px 1px 2px rgba(0, 0, 0, 0.3));\n",
              "      fill: #FFFFFF;\n",
              "    }\n",
              "  </style>\n",
              "\n",
              "      <script>\n",
              "        const buttonEl =\n",
              "          document.querySelector('#df-2c0df50b-a3da-44cd-8333-e117d3cffe9d button.colab-df-convert');\n",
              "        buttonEl.style.display =\n",
              "          google.colab.kernel.accessAllowed ? 'block' : 'none';\n",
              "\n",
              "        async function convertToInteractive(key) {\n",
              "          const element = document.querySelector('#df-2c0df50b-a3da-44cd-8333-e117d3cffe9d');\n",
              "          const dataTable =\n",
              "            await google.colab.kernel.invokeFunction('convertToInteractive',\n",
              "                                                     [key], {});\n",
              "          if (!dataTable) return;\n",
              "\n",
              "          const docLinkHtml = 'Like what you see? Visit the ' +\n",
              "            '<a target=\"_blank\" href=https://colab.research.google.com/notebooks/data_table.ipynb>data table notebook</a>'\n",
              "            + ' to learn more about interactive tables.';\n",
              "          element.innerHTML = '';\n",
              "          dataTable['output_type'] = 'display_data';\n",
              "          await google.colab.output.renderOutput(dataTable, element);\n",
              "          const docLink = document.createElement('div');\n",
              "          docLink.innerHTML = docLinkHtml;\n",
              "          element.appendChild(docLink);\n",
              "        }\n",
              "      </script>\n",
              "    </div>\n",
              "  </div>\n",
              "  "
            ]
          },
          "metadata": {},
          "execution_count": 6
        }
      ]
    },
    {
      "cell_type": "markdown",
      "source": [
        "#Scaling the Data"
      ],
      "metadata": {
        "id": "rsHFW8iJEIdO"
      }
    },
    {
      "cell_type": "code",
      "source": [
        "from sklearn.preprocessing import MinMaxScaler\n",
        "\n",
        "scaler = MinMaxScaler()"
      ],
      "metadata": {
        "id": "TJlJYAt0z6Bk"
      },
      "execution_count": 7,
      "outputs": []
    },
    {
      "cell_type": "code",
      "source": [
        "scal_features = data.columns.tolist()\n",
        "\n",
        "scal_features.remove('Sex')\n",
        "\n",
        "for column in data.columns:\n",
        "  if column!='Sex':\n",
        "    scal_features.append(column)\n",
        "\n",
        "data[scal_features]= scaler.fit_transform(data[scal_features])\n"
      ],
      "metadata": {
        "id": "J1aUHugU0RTI"
      },
      "execution_count": 8,
      "outputs": []
    },
    {
      "cell_type": "code",
      "source": [
        "data.head()"
      ],
      "metadata": {
        "colab": {
          "base_uri": "https://localhost:8080/",
          "height": 206
        },
        "id": "AxRciS7Q0XHK",
        "outputId": "f8b758cc-2e8f-45b0-9264-e5baa8e8cbd6"
      },
      "execution_count": 9,
      "outputs": [
        {
          "output_type": "execute_result",
          "data": {
            "text/plain": [
              "  Sex    Length  Diameter    Heoght  Whole Weight  Shuckled Weight  \\\n",
              "0   0  0.513514  0.521008  0.084071      0.181335         0.150303   \n",
              "1   0  0.371622  0.352941  0.079646      0.079157         0.066241   \n",
              "2   1  0.614865  0.613445  0.119469      0.239065         0.171822   \n",
              "3   0  0.493243  0.521008  0.110619      0.182044         0.144250   \n",
              "4   2  0.344595  0.336134  0.070796      0.071897         0.059516   \n",
              "\n",
              "   Viscera Weight  Shell Weight     Rings  \n",
              "0        0.132324      0.147982  0.500000  \n",
              "1        0.063199      0.068261  0.214286  \n",
              "2        0.185648      0.207773  0.285714  \n",
              "3        0.149440      0.152965  0.321429  \n",
              "4        0.051350      0.053313  0.214286  "
            ],
            "text/html": [
              "\n",
              "  <div id=\"df-3c3777bd-22ac-4750-9c4e-3027a6633f62\">\n",
              "    <div class=\"colab-df-container\">\n",
              "      <div>\n",
              "<style scoped>\n",
              "    .dataframe tbody tr th:only-of-type {\n",
              "        vertical-align: middle;\n",
              "    }\n",
              "\n",
              "    .dataframe tbody tr th {\n",
              "        vertical-align: top;\n",
              "    }\n",
              "\n",
              "    .dataframe thead th {\n",
              "        text-align: right;\n",
              "    }\n",
              "</style>\n",
              "<table border=\"1\" class=\"dataframe\">\n",
              "  <thead>\n",
              "    <tr style=\"text-align: right;\">\n",
              "      <th></th>\n",
              "      <th>Sex</th>\n",
              "      <th>Length</th>\n",
              "      <th>Diameter</th>\n",
              "      <th>Heoght</th>\n",
              "      <th>Whole Weight</th>\n",
              "      <th>Shuckled Weight</th>\n",
              "      <th>Viscera Weight</th>\n",
              "      <th>Shell Weight</th>\n",
              "      <th>Rings</th>\n",
              "    </tr>\n",
              "  </thead>\n",
              "  <tbody>\n",
              "    <tr>\n",
              "      <th>0</th>\n",
              "      <td>0</td>\n",
              "      <td>0.513514</td>\n",
              "      <td>0.521008</td>\n",
              "      <td>0.084071</td>\n",
              "      <td>0.181335</td>\n",
              "      <td>0.150303</td>\n",
              "      <td>0.132324</td>\n",
              "      <td>0.147982</td>\n",
              "      <td>0.500000</td>\n",
              "    </tr>\n",
              "    <tr>\n",
              "      <th>1</th>\n",
              "      <td>0</td>\n",
              "      <td>0.371622</td>\n",
              "      <td>0.352941</td>\n",
              "      <td>0.079646</td>\n",
              "      <td>0.079157</td>\n",
              "      <td>0.066241</td>\n",
              "      <td>0.063199</td>\n",
              "      <td>0.068261</td>\n",
              "      <td>0.214286</td>\n",
              "    </tr>\n",
              "    <tr>\n",
              "      <th>2</th>\n",
              "      <td>1</td>\n",
              "      <td>0.614865</td>\n",
              "      <td>0.613445</td>\n",
              "      <td>0.119469</td>\n",
              "      <td>0.239065</td>\n",
              "      <td>0.171822</td>\n",
              "      <td>0.185648</td>\n",
              "      <td>0.207773</td>\n",
              "      <td>0.285714</td>\n",
              "    </tr>\n",
              "    <tr>\n",
              "      <th>3</th>\n",
              "      <td>0</td>\n",
              "      <td>0.493243</td>\n",
              "      <td>0.521008</td>\n",
              "      <td>0.110619</td>\n",
              "      <td>0.182044</td>\n",
              "      <td>0.144250</td>\n",
              "      <td>0.149440</td>\n",
              "      <td>0.152965</td>\n",
              "      <td>0.321429</td>\n",
              "    </tr>\n",
              "    <tr>\n",
              "      <th>4</th>\n",
              "      <td>2</td>\n",
              "      <td>0.344595</td>\n",
              "      <td>0.336134</td>\n",
              "      <td>0.070796</td>\n",
              "      <td>0.071897</td>\n",
              "      <td>0.059516</td>\n",
              "      <td>0.051350</td>\n",
              "      <td>0.053313</td>\n",
              "      <td>0.214286</td>\n",
              "    </tr>\n",
              "  </tbody>\n",
              "</table>\n",
              "</div>\n",
              "      <button class=\"colab-df-convert\" onclick=\"convertToInteractive('df-3c3777bd-22ac-4750-9c4e-3027a6633f62')\"\n",
              "              title=\"Convert this dataframe to an interactive table.\"\n",
              "              style=\"display:none;\">\n",
              "        \n",
              "  <svg xmlns=\"http://www.w3.org/2000/svg\" height=\"24px\"viewBox=\"0 0 24 24\"\n",
              "       width=\"24px\">\n",
              "    <path d=\"M0 0h24v24H0V0z\" fill=\"none\"/>\n",
              "    <path d=\"M18.56 5.44l.94 2.06.94-2.06 2.06-.94-2.06-.94-.94-2.06-.94 2.06-2.06.94zm-11 1L8.5 8.5l.94-2.06 2.06-.94-2.06-.94L8.5 2.5l-.94 2.06-2.06.94zm10 10l.94 2.06.94-2.06 2.06-.94-2.06-.94-.94-2.06-.94 2.06-2.06.94z\"/><path d=\"M17.41 7.96l-1.37-1.37c-.4-.4-.92-.59-1.43-.59-.52 0-1.04.2-1.43.59L10.3 9.45l-7.72 7.72c-.78.78-.78 2.05 0 2.83L4 21.41c.39.39.9.59 1.41.59.51 0 1.02-.2 1.41-.59l7.78-7.78 2.81-2.81c.8-.78.8-2.07 0-2.86zM5.41 20L4 18.59l7.72-7.72 1.47 1.35L5.41 20z\"/>\n",
              "  </svg>\n",
              "      </button>\n",
              "      \n",
              "  <style>\n",
              "    .colab-df-container {\n",
              "      display:flex;\n",
              "      flex-wrap:wrap;\n",
              "      gap: 12px;\n",
              "    }\n",
              "\n",
              "    .colab-df-convert {\n",
              "      background-color: #E8F0FE;\n",
              "      border: none;\n",
              "      border-radius: 50%;\n",
              "      cursor: pointer;\n",
              "      display: none;\n",
              "      fill: #1967D2;\n",
              "      height: 32px;\n",
              "      padding: 0 0 0 0;\n",
              "      width: 32px;\n",
              "    }\n",
              "\n",
              "    .colab-df-convert:hover {\n",
              "      background-color: #E2EBFA;\n",
              "      box-shadow: 0px 1px 2px rgba(60, 64, 67, 0.3), 0px 1px 3px 1px rgba(60, 64, 67, 0.15);\n",
              "      fill: #174EA6;\n",
              "    }\n",
              "\n",
              "    [theme=dark] .colab-df-convert {\n",
              "      background-color: #3B4455;\n",
              "      fill: #D2E3FC;\n",
              "    }\n",
              "\n",
              "    [theme=dark] .colab-df-convert:hover {\n",
              "      background-color: #434B5C;\n",
              "      box-shadow: 0px 1px 3px 1px rgba(0, 0, 0, 0.15);\n",
              "      filter: drop-shadow(0px 1px 2px rgba(0, 0, 0, 0.3));\n",
              "      fill: #FFFFFF;\n",
              "    }\n",
              "  </style>\n",
              "\n",
              "      <script>\n",
              "        const buttonEl =\n",
              "          document.querySelector('#df-3c3777bd-22ac-4750-9c4e-3027a6633f62 button.colab-df-convert');\n",
              "        buttonEl.style.display =\n",
              "          google.colab.kernel.accessAllowed ? 'block' : 'none';\n",
              "\n",
              "        async function convertToInteractive(key) {\n",
              "          const element = document.querySelector('#df-3c3777bd-22ac-4750-9c4e-3027a6633f62');\n",
              "          const dataTable =\n",
              "            await google.colab.kernel.invokeFunction('convertToInteractive',\n",
              "                                                     [key], {});\n",
              "          if (!dataTable) return;\n",
              "\n",
              "          const docLinkHtml = 'Like what you see? Visit the ' +\n",
              "            '<a target=\"_blank\" href=https://colab.research.google.com/notebooks/data_table.ipynb>data table notebook</a>'\n",
              "            + ' to learn more about interactive tables.';\n",
              "          element.innerHTML = '';\n",
              "          dataTable['output_type'] = 'display_data';\n",
              "          await google.colab.output.renderOutput(dataTable, element);\n",
              "          const docLink = document.createElement('div');\n",
              "          docLink.innerHTML = docLinkHtml;\n",
              "          element.appendChild(docLink);\n",
              "        }\n",
              "      </script>\n",
              "    </div>\n",
              "  </div>\n",
              "  "
            ]
          },
          "metadata": {},
          "execution_count": 9
        }
      ]
    },
    {
      "cell_type": "markdown",
      "source": [
        "Converting the data into Bins so as to get better fit "
      ],
      "metadata": {
        "id": "7ou3-tZG2J6l"
      }
    },
    {
      "cell_type": "code",
      "source": [
        "from sklearn.preprocessing import KBinsDiscretizer\n",
        "\n",
        "rings= np.array( data['Rings'])\n",
        "\n",
        "\n",
        "transform= KBinsDiscretizer( n_bins=3, encode= 'ordinal', strategy= 'uniform')\n",
        "rings= np.ravel(transform.fit_transform( rings.reshape( len(rings), 1)))\n",
        "\n",
        "data['Rings']= rings\n",
        "\n",
        "# Now, we have just 3 unique ring types [0, 1, 2]"
      ],
      "metadata": {
        "id": "PgH0z6z91zEr"
      },
      "execution_count": 10,
      "outputs": []
    },
    {
      "cell_type": "code",
      "source": [
        "print(\"Types of Rings : \", np.unique(np.array(data['Rings'])))"
      ],
      "metadata": {
        "colab": {
          "base_uri": "https://localhost:8080/"
        },
        "id": "y9dGMjdp105d",
        "outputId": "bd477dc7-e7b4-4008-950f-c470cd775c6f"
      },
      "execution_count": 11,
      "outputs": [
        {
          "output_type": "stream",
          "name": "stdout",
          "text": [
            "Types of Rings :  [0. 1. 2.]\n"
          ]
        }
      ]
    },
    {
      "cell_type": "markdown",
      "source": [
        "Splitting the Data into X, Y and training and Testing Data"
      ],
      "metadata": {
        "id": "cvyuOUjq2p3Z"
      }
    },
    {
      "cell_type": "code",
      "source": [
        "from sklearn.model_selection import train_test_split as tts\n",
        "\n",
        "train, test= tts( data, train_size=0.7, random_state= 42)\n",
        "\n",
        "X_train, Y_train= train.iloc[:, :-1].values, train.iloc[:, -1].values\n",
        "X_test, Y_test= test.iloc[:, :-1].values, test.iloc[:, -1].values "
      ],
      "metadata": {
        "id": "32NKooJH2l5p"
      },
      "execution_count": 12,
      "outputs": []
    },
    {
      "cell_type": "code",
      "source": [],
      "metadata": {
        "id": "Jo_CuJEP7mM9"
      },
      "execution_count": null,
      "outputs": []
    },
    {
      "cell_type": "markdown",
      "source": [
        "#**Making the Neural Network**"
      ],
      "metadata": {
        "id": "o8z7-frTC3aE"
      }
    },
    {
      "cell_type": "code",
      "source": [
        "class NeuralNet(torch.nn.Module):    \n",
        "    def __init__(self, input_size, hidden_neurons, output_size):\n",
        "        \n",
        "        super(NeuralNet, self).__init__()\n",
        "        self.linear_one = torch.nn.Linear(input_size, hidden_neurons)\n",
        "        self.linear_two = torch.nn.Linear(hidden_neurons, output_size) \n",
        "        self.layer_in = None\n",
        "        self.act = None\n",
        "        self.layer_out = None\n",
        "\n",
        "    def forward(self, x):\n",
        "        self.layer_in = self.linear_one(x)\n",
        "        self.act = torch.sigmoid(self.layer_in)\n",
        "        self.layer_out = self.linear_two(self.act)\n",
        "        y_pred = torch.sigmoid(self.linear_two(self.act))\n",
        "        return y_pred"
      ],
      "metadata": {
        "id": "syypgTtl7mT7"
      },
      "execution_count": 13,
      "outputs": []
    },
    {
      "cell_type": "code",
      "source": [
        "model = NeuralNet(8, 5, 3)"
      ],
      "metadata": {
        "id": "fUbv96C07mXE"
      },
      "execution_count": 14,
      "outputs": []
    },
    {
      "cell_type": "code",
      "source": [
        "def criterion(y_pred, y):\n",
        "    out = -1 * torch.mean(y * torch.log(y_pred) + (1 - y) * torch.log(1 - y_pred))\n",
        "    return out\n",
        "optimizer = torch.optim.SGD(model.parameters(), lr=0.01)"
      ],
      "metadata": {
        "id": "3VXEhAbL7mZM"
      },
      "execution_count": 15,
      "outputs": []
    },
    {
      "cell_type": "code",
      "source": [
        "X_train = torch.tensor(np.array(X_train).tolist())\n",
        "Y_train = torch.tensor(np.array(Y_train).tolist())"
      ],
      "metadata": {
        "id": "qBauHUxU8kEe"
      },
      "execution_count": 16,
      "outputs": []
    },
    {
      "cell_type": "code",
      "source": [
        "# Define the training loop\n",
        "import matplotlib.pyplot as plt\n",
        "\n",
        "epochs=50\n",
        "cost = []\n",
        "total=0\n",
        "for epoch in range(epochs):\n",
        "    total=0\n",
        "    correct = 0\n",
        "    incorrect = 0\n",
        "\n",
        "    epoch = epoch + 1\n",
        "    for x, y in zip(X_train, Y_train):\n",
        "        yhat = model(x)\n",
        "        loss = criterion(yhat, y)\n",
        "\n",
        "        temp_pred = yhat.detach().numpy()\n",
        "        temp_orig = y.detach().numpy()\n",
        "\n",
        "        pred = temp_pred.argmax()\n",
        "        if pred == temp_orig:\n",
        "            correct+=1\n",
        "        else:\n",
        "            incorrect+=1\n",
        "        loss.backward()\n",
        "        optimizer.step()\n",
        "        optimizer.zero_grad()\n",
        "        total+=loss.item()\n",
        "    cost.append(total)\n",
        "    accuracy = correct/(correct+incorrect)\n",
        "    print('Epoch: %d | Loss: %.4f | Train Accuracy: %.2f' %(epoch, total, accuracy*100))  "
      ],
      "metadata": {
        "colab": {
          "base_uri": "https://localhost:8080/"
        },
        "id": "foph_CXF7mdJ",
        "outputId": "d7836ac3-f612-494e-e0e4-51a010bd04d6"
      },
      "execution_count": 18,
      "outputs": [
        {
          "output_type": "stream",
          "name": "stdout",
          "text": [
            "Epoch: 1 | Loss: 1715.3629 | Train Accuracy: 33.84\n",
            "Epoch: 2 | Loss: 1687.5159 | Train Accuracy: 32.36\n",
            "Epoch: 3 | Loss: 1666.2951 | Train Accuracy: 30.65\n",
            "Epoch: 4 | Loss: 1649.1174 | Train Accuracy: 29.42\n",
            "Epoch: 5 | Loss: 1634.6095 | Train Accuracy: 28.40\n",
            "Epoch: 6 | Loss: 1621.9980 | Train Accuracy: 26.89\n",
            "Epoch: 7 | Loss: 1610.8355 | Train Accuracy: 25.42\n",
            "Epoch: 8 | Loss: 1600.8616 | Train Accuracy: 24.36\n",
            "Epoch: 9 | Loss: 1591.9220 | Train Accuracy: 23.98\n",
            "Epoch: 10 | Loss: 1583.9143 | Train Accuracy: 23.71\n",
            "Epoch: 11 | Loss: 1576.7529 | Train Accuracy: 23.95\n",
            "Epoch: 12 | Loss: 1570.3483 | Train Accuracy: 25.25\n",
            "Epoch: 13 | Loss: 1564.6002 | Train Accuracy: 26.68\n",
            "Epoch: 14 | Loss: 1559.3979 | Train Accuracy: 30.04\n",
            "Epoch: 15 | Loss: 1554.6268 | Train Accuracy: 34.86\n",
            "Epoch: 16 | Loss: 1550.1749 | Train Accuracy: 38.83\n",
            "Epoch: 17 | Loss: 1545.9377 | Train Accuracy: 42.25\n",
            "Epoch: 18 | Loss: 1541.8228 | Train Accuracy: 45.02\n",
            "Epoch: 19 | Loss: 1537.7504 | Train Accuracy: 46.66\n",
            "Epoch: 20 | Loss: 1533.6547 | Train Accuracy: 47.76\n",
            "Epoch: 21 | Loss: 1529.4825 | Train Accuracy: 48.41\n",
            "Epoch: 22 | Loss: 1525.1931 | Train Accuracy: 48.72\n",
            "Epoch: 23 | Loss: 1520.7568 | Train Accuracy: 48.68\n",
            "Epoch: 24 | Loss: 1516.1535 | Train Accuracy: 48.61\n",
            "Epoch: 25 | Loss: 1511.3712 | Train Accuracy: 48.58\n",
            "Epoch: 26 | Loss: 1506.4032 | Train Accuracy: 48.51\n",
            "Epoch: 27 | Loss: 1501.2461 | Train Accuracy: 48.89\n",
            "Epoch: 28 | Loss: 1495.8974 | Train Accuracy: 49.16\n",
            "Epoch: 29 | Loss: 1490.3538 | Train Accuracy: 49.20\n",
            "Epoch: 30 | Loss: 1484.6111 | Train Accuracy: 49.30\n",
            "Epoch: 31 | Loss: 1478.6635 | Train Accuracy: 49.44\n",
            "Epoch: 32 | Loss: 1472.5040 | Train Accuracy: 49.57\n",
            "Epoch: 33 | Loss: 1466.1260 | Train Accuracy: 49.33\n",
            "Epoch: 34 | Loss: 1459.5240 | Train Accuracy: 48.92\n",
            "Epoch: 35 | Loss: 1452.6951 | Train Accuracy: 48.44\n",
            "Epoch: 36 | Loss: 1445.6424 | Train Accuracy: 48.41\n",
            "Epoch: 37 | Loss: 1438.3772 | Train Accuracy: 48.14\n",
            "Epoch: 38 | Loss: 1430.9209 | Train Accuracy: 47.76\n",
            "Epoch: 39 | Loss: 1423.3081 | Train Accuracy: 46.08\n",
            "Epoch: 40 | Loss: 1415.5854 | Train Accuracy: 43.76\n",
            "Epoch: 41 | Loss: 1407.8085 | Train Accuracy: 37.26\n",
            "Epoch: 42 | Loss: 1400.0374 | Train Accuracy: 28.60\n",
            "Epoch: 43 | Loss: 1392.3305 | Train Accuracy: 22.07\n",
            "Epoch: 44 | Loss: 1384.7390 | Train Accuracy: 19.33\n",
            "Epoch: 45 | Loss: 1377.3047 | Train Accuracy: 19.19\n",
            "Epoch: 46 | Loss: 1370.0586 | Train Accuracy: 19.91\n",
            "Epoch: 47 | Loss: 1363.0226 | Train Accuracy: 21.28\n",
            "Epoch: 48 | Loss: 1356.2114 | Train Accuracy: 23.02\n",
            "Epoch: 49 | Loss: 1349.6341 | Train Accuracy: 24.73\n",
            "Epoch: 50 | Loss: 1343.2967 | Train Accuracy: 25.86\n"
          ]
        }
      ]
    },
    {
      "cell_type": "code",
      "source": [
        "plt.plot(cost)\n",
        "plt.xlabel('epochs')\n",
        "plt.title('cross entropy loss')\n",
        "plt.show()"
      ],
      "metadata": {
        "colab": {
          "base_uri": "https://localhost:8080/",
          "height": 472
        },
        "id": "dAmnJvmc-3Cq",
        "outputId": "1f272f8d-f287-467b-a882-2e6336e27d44"
      },
      "execution_count": 19,
      "outputs": [
        {
          "output_type": "display_data",
          "data": {
            "text/plain": [
              "<Figure size 640x480 with 1 Axes>"
            ],
            "image/png": "[encoded data removed]"
          },
          "metadata": {}
        }
      ]
    },
    {
      "cell_type": "code",
      "source": [],
      "metadata": {
        "id": "rH-3w1QC7mfc"
      },
      "execution_count": null,
      "outputs": []
    },
    {
      "cell_type": "markdown",
      "source": [
        "Testing the Data"
      ],
      "metadata": {
        "id": "fR8LRPZRFa5D"
      }
    },
    {
      "cell_type": "code",
      "source": [
        "X_test = torch.tensor(np.array(X_test).tolist())\n",
        "Y_test = torch.tensor(np.array(Y_test).tolist())"
      ],
      "metadata": {
        "id": "6j_CEfn-7mgt"
      },
      "execution_count": 20,
      "outputs": []
    },
    {
      "cell_type": "code",
      "source": [
        "correct = 0\n",
        "incorrect = 0\n",
        "\n",
        "for x, y in zip(X_test, Y_test):\n",
        "    yhat = model(x)\n",
        "    \n",
        "    temp_pred = yhat.detach().numpy()\n",
        "    temp_orig = y.detach().numpy()\n",
        "    pred = temp_pred.argmax()\n",
        "    if pred == temp_orig:\n",
        "        correct+=1\n",
        "    else:\n",
        "        incorrect+=1\n",
        "accuracy = correct/(correct+incorrect)\n",
        "print(\"Accuracy of the model on testing data is : \", accuracy*100)  "
      ],
      "metadata": {
        "colab": {
          "base_uri": "https://localhost:8080/"
        },
        "id": "nexZjb8L7miN",
        "outputId": "24990958-c215-4c65-e62b-770712012345"
      },
      "execution_count": 21,
      "outputs": [
        {
          "output_type": "stream",
          "name": "stdout",
          "text": [
            "Accuracy of the model on testing data is :  21.770334928229666\n"
          ]
        }
      ]
    }
  ]
}